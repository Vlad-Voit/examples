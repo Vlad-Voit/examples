{
  "nbformat": 4,
  "nbformat_minor": 0,
  "metadata": {
    "kernelspec": {
      "display_name": "Python 3",
      "language": "python",
      "name": "python3"
    },
    "language_info": {
      "codemirror_mode": {
        "name": "ipython",
        "version": 3
      },
      "file_extension": ".py",
      "mimetype": "text/x-python",
      "name": "python",
      "nbconvert_exporter": "python",
      "pygments_lexer": "ipython3",
      "version": "3.7.1"
    },
    "colab": {
      "provenance": []
    }
  },
  "cells": [
    {
      "cell_type": "code",
      "metadata": {
        "id": "oyAK2oHxNRwK"
      },
      "source": [
        "import pandas as pd\n",
        "import numpy as np\n",
        "import matplotlib.pyplot as plt"
      ],
      "execution_count": null,
      "outputs": []
    },
    {
      "cell_type": "markdown",
      "metadata": {
        "id": "zF7C3ihqUzsJ"
      },
      "source": [
        "нарисуем точки графика y=x*x, добавив шум к y"
      ]
    },
    {
      "cell_type": "code",
      "metadata": {
        "id": "7ZOr-NEENRwL",
        "colab": {
          "base_uri": "https://localhost:8080/"
        },
        "outputId": "4190a051-76c8-4678-93a4-c74cdbc1773f"
      },
      "source": [
        "m = 50\n",
        "X = np.linspace(-10,10,m).reshape(-1, 1) \n",
        "X"
      ],
      "execution_count": null,
      "outputs": [
        {
          "output_type": "execute_result",
          "data": {
            "text/plain": [
              "array([[-10.        ],\n",
              "       [ -9.59183673],\n",
              "       [ -9.18367347],\n",
              "       [ -8.7755102 ],\n",
              "       [ -8.36734694],\n",
              "       [ -7.95918367],\n",
              "       [ -7.55102041],\n",
              "       [ -7.14285714],\n",
              "       [ -6.73469388],\n",
              "       [ -6.32653061],\n",
              "       [ -5.91836735],\n",
              "       [ -5.51020408],\n",
              "       [ -5.10204082],\n",
              "       [ -4.69387755],\n",
              "       [ -4.28571429],\n",
              "       [ -3.87755102],\n",
              "       [ -3.46938776],\n",
              "       [ -3.06122449],\n",
              "       [ -2.65306122],\n",
              "       [ -2.24489796],\n",
              "       [ -1.83673469],\n",
              "       [ -1.42857143],\n",
              "       [ -1.02040816],\n",
              "       [ -0.6122449 ],\n",
              "       [ -0.20408163],\n",
              "       [  0.20408163],\n",
              "       [  0.6122449 ],\n",
              "       [  1.02040816],\n",
              "       [  1.42857143],\n",
              "       [  1.83673469],\n",
              "       [  2.24489796],\n",
              "       [  2.65306122],\n",
              "       [  3.06122449],\n",
              "       [  3.46938776],\n",
              "       [  3.87755102],\n",
              "       [  4.28571429],\n",
              "       [  4.69387755],\n",
              "       [  5.10204082],\n",
              "       [  5.51020408],\n",
              "       [  5.91836735],\n",
              "       [  6.32653061],\n",
              "       [  6.73469388],\n",
              "       [  7.14285714],\n",
              "       [  7.55102041],\n",
              "       [  7.95918367],\n",
              "       [  8.36734694],\n",
              "       [  8.7755102 ],\n",
              "       [  9.18367347],\n",
              "       [  9.59183673],\n",
              "       [ 10.        ]])"
            ]
          },
          "metadata": {},
          "execution_count": 2
        }
      ]
    },
    {
      "cell_type": "code",
      "source": [
        "y =  X**2 + 8*np.random.randn(m, 1) \n",
        "y"
      ],
      "metadata": {
        "id": "3t_D_ysuUF36",
        "colab": {
          "base_uri": "https://localhost:8080/"
        },
        "outputId": "864d9938-38fb-49b8-ca41-3a7853245bbd"
      },
      "execution_count": null,
      "outputs": [
        {
          "output_type": "execute_result",
          "data": {
            "text/plain": [
              "array([[ 95.15365417],\n",
              "       [105.77135332],\n",
              "       [ 71.2973269 ],\n",
              "       [ 75.90642391],\n",
              "       [ 56.64462719],\n",
              "       [ 66.34374264],\n",
              "       [ 57.16514472],\n",
              "       [ 52.37303094],\n",
              "       [ 48.38836603],\n",
              "       [ 48.30941909],\n",
              "       [ 41.03494834],\n",
              "       [ 23.63630025],\n",
              "       [ 28.40442032],\n",
              "       [ 21.83699622],\n",
              "       [ 20.69449015],\n",
              "       [  6.0139107 ],\n",
              "       [ 21.07465498],\n",
              "       [ -1.93334671],\n",
              "       [ 13.73161624],\n",
              "       [  3.10339232],\n",
              "       [  7.32258898],\n",
              "       [  6.34800809],\n",
              "       [  3.4532803 ],\n",
              "       [ -8.36397773],\n",
              "       [  8.16771493],\n",
              "       [  3.42125936],\n",
              "       [  1.88847226],\n",
              "       [ -2.31217093],\n",
              "       [ 16.29350832],\n",
              "       [  1.53000506],\n",
              "       [ -0.10863659],\n",
              "       [ -2.64440228],\n",
              "       [ 12.5805591 ],\n",
              "       [ 14.33751356],\n",
              "       [  4.66457266],\n",
              "       [ 17.63550729],\n",
              "       [ 27.26281995],\n",
              "       [ 29.92950095],\n",
              "       [ 35.74475812],\n",
              "       [ 37.40550153],\n",
              "       [ 41.01311927],\n",
              "       [ 38.36075736],\n",
              "       [ 50.21773213],\n",
              "       [ 52.19773789],\n",
              "       [ 58.9812729 ],\n",
              "       [ 64.93267701],\n",
              "       [ 53.91964266],\n",
              "       [ 82.29047699],\n",
              "       [ 87.76632297],\n",
              "       [108.0528467 ]])"
            ]
          },
          "metadata": {},
          "execution_count": 10
        }
      ]
    },
    {
      "cell_type": "code",
      "metadata": {
        "colab": {
          "base_uri": "https://localhost:8080/",
          "height": 295
        },
        "id": "9B17BDTHNRwN",
        "outputId": "9ced1996-1b0c-4065-ce2e-fad23149a351"
      },
      "source": [
        "plt.scatter(X, y);\n",
        "plt.title('Оригинал');\n",
        "plt.xlabel(\"X\")\n",
        "plt.ylabel(\"Y\")\n",
        "plt.show()\n"
      ],
      "execution_count": null,
      "outputs": [
        {
          "output_type": "display_data",
          "data": {
            "text/plain": [
              "<Figure size 432x288 with 1 Axes>"
            ],
            "image/png": "[encoded data removed]"
          },
          "metadata": {
            "needs_background": "light"
          }
        }
      ]
    },
    {
      "cell_type": "markdown",
      "metadata": {
        "id": "Wihuas7YVQbZ"
      },
      "source": [
        "построим по этим точкам линейную регрессию"
      ]
    },
    {
      "cell_type": "code",
      "metadata": {
        "id": "ea5IF2cnNRwO"
      },
      "source": [
        "from sklearn.linear_model import LinearRegression\n"
      ],
      "execution_count": null,
      "outputs": []
    },
    {
      "cell_type": "code",
      "metadata": {
        "colab": {
          "base_uri": "https://localhost:8080/"
        },
        "id": "8jvoJ_IyNRwP",
        "outputId": "1d91be04-0398-4d32-a2bf-048d24375400"
      },
      "source": [
        "lr = LinearRegression()\n",
        "lr.fit(X, y);\n",
        "print('R² Value: ')\n",
        "lr.score(X, y)"
      ],
      "execution_count": null,
      "outputs": [
        {
          "output_type": "stream",
          "name": "stdout",
          "text": [
            "R² Value: \n"
          ]
        },
        {
          "output_type": "execute_result",
          "data": {
            "text/plain": [
              "0.0008264947006746404"
            ]
          },
          "metadata": {},
          "execution_count": 13
        }
      ]
    },
    {
      "cell_type": "code",
      "metadata": {
        "colab": {
          "base_uri": "https://localhost:8080/"
        },
        "id": "NYlEs17OPJ-a",
        "outputId": "ec9e1554-5830-49fe-82b0-7ae616e7a7df"
      },
      "source": [
        "lr.intercept_, lr.coef_"
      ],
      "execution_count": null,
      "outputs": [
        {
          "output_type": "execute_result",
          "data": {
            "text/plain": [
              "(array([34.14478881]), array([[-0.14873214]]))"
            ]
          },
          "metadata": {},
          "execution_count": 14
        }
      ]
    },
    {
      "cell_type": "code",
      "metadata": {
        "colab": {
          "base_uri": "https://localhost:8080/",
          "height": 295
        },
        "id": "9xo2i4VzNg1Z",
        "outputId": "818a744e-fae0-45c4-ed3a-af37265f26a4"
      },
      "source": [
        "y_pred=lr.predict(X)\n",
        "plt.scatter(X, y);\n",
        "plt.title('линейная регрессия');\n",
        "plt.plot(X, y_pred, color='red');\n",
        "plt.xlabel(\"X\")\n",
        "plt.ylabel(\"Y\")\n",
        "plt.show()"
      ],
      "execution_count": null,
      "outputs": [
        {
          "output_type": "display_data",
          "data": {
            "text/plain": [
              "<Figure size 432x288 with 1 Axes>"
            ],
            "image/png": "[encoded data removed]"
          },
          "metadata": {
            "needs_background": "light"
          }
        }
      ]
    },
    {
      "cell_type": "markdown",
      "metadata": {
        "id": "ad9zLcI6Vao_"
      },
      "source": [
        "добавим регуляризацию"
      ]
    },
    {
      "cell_type": "code",
      "metadata": {
        "colab": {
          "base_uri": "https://localhost:8080/"
        },
        "id": "W2Hamy7xNRwP",
        "outputId": "48436876-9ac4-44a0-acbc-4eb4a0a91621"
      },
      "source": [
        "from sklearn.linear_model import Lasso, Ridge\n",
        "rg = Ridge(fit_intercept=True, alpha=1, random_state=0, normalize=True)\n",
        "rg.fit(X, y)\n",
        "print('R² Value:',rg.score(X, y))"
      ],
      "execution_count": null,
      "outputs": [
        {
          "output_type": "stream",
          "name": "stdout",
          "text": [
            "R² Value: 0.0006198710255059803\n"
          ]
        },
        {
          "output_type": "stream",
          "name": "stderr",
          "text": [
            "/usr/local/lib/python3.7/dist-packages/sklearn/linear_model/_base.py:145: FutureWarning: 'normalize' was deprecated in version 1.0 and will be removed in 1.2.\n",
            "If you wish to scale the data, use Pipeline with a StandardScaler in a preprocessing stage. To reproduce the previous behavior:\n",
            "\n",
            "from sklearn.pipeline import make_pipeline\n",
            "\n",
            "model = make_pipeline(StandardScaler(with_mean=False), Ridge())\n",
            "\n",
            "If you wish to pass a sample_weight parameter, you need to pass it as a fit parameter to each step of the pipeline as follows:\n",
            "\n",
            "kwargs = {s[0] + '__sample_weight': sample_weight for s in model.steps}\n",
            "model.fit(X, y, **kwargs)\n",
            "\n",
            "Set parameter alpha to: original_alpha * n_samples. \n",
            "  FutureWarning,\n"
          ]
        }
      ]
    },
    {
      "cell_type": "markdown",
      "metadata": {
        "id": "aqUBzzMMVl0A"
      },
      "source": [
        "добавим полиномиальные признаки 2-й степени"
      ]
    },
    {
      "cell_type": "code",
      "metadata": {
        "id": "yby3kW47Quop",
        "colab": {
          "base_uri": "https://localhost:8080/"
        },
        "outputId": "179f978f-fdf5-4f3a-c744-c82afcddb466"
      },
      "source": [
        "from sklearn.preprocessing import PolynomialFeatures\n",
        "pf = PolynomialFeatures(degree=2)\n",
        "X_polynomial = pf.fit_transform(X)\n",
        "X_polynomial"
      ],
      "execution_count": null,
      "outputs": [
        {
          "output_type": "execute_result",
          "data": {
            "text/plain": [
              "array([[ 1.00000000e+00, -1.00000000e+01,  1.00000000e+02],\n",
              "       [ 1.00000000e+00, -9.59183673e+00,  9.20033319e+01],\n",
              "       [ 1.00000000e+00, -9.18367347e+00,  8.43398584e+01],\n",
              "       [ 1.00000000e+00, -8.77551020e+00,  7.70095793e+01],\n",
              "       [ 1.00000000e+00, -8.36734694e+00,  7.00124948e+01],\n",
              "       [ 1.00000000e+00, -7.95918367e+00,  6.33486047e+01],\n",
              "       [ 1.00000000e+00, -7.55102041e+00,  5.70179092e+01],\n",
              "       [ 1.00000000e+00, -7.14285714e+00,  5.10204082e+01],\n",
              "       [ 1.00000000e+00, -6.73469388e+00,  4.53561016e+01],\n",
              "       [ 1.00000000e+00, -6.32653061e+00,  4.00249896e+01],\n",
              "       [ 1.00000000e+00, -5.91836735e+00,  3.50270721e+01],\n",
              "       [ 1.00000000e+00, -5.51020408e+00,  3.03623490e+01],\n",
              "       [ 1.00000000e+00, -5.10204082e+00,  2.60308205e+01],\n",
              "       [ 1.00000000e+00, -4.69387755e+00,  2.20324865e+01],\n",
              "       [ 1.00000000e+00, -4.28571429e+00,  1.83673469e+01],\n",
              "       [ 1.00000000e+00, -3.87755102e+00,  1.50354019e+01],\n",
              "       [ 1.00000000e+00, -3.46938776e+00,  1.20366514e+01],\n",
              "       [ 1.00000000e+00, -3.06122449e+00,  9.37109538e+00],\n",
              "       [ 1.00000000e+00, -2.65306122e+00,  7.03873386e+00],\n",
              "       [ 1.00000000e+00, -2.24489796e+00,  5.03956685e+00],\n",
              "       [ 1.00000000e+00, -1.83673469e+00,  3.37359434e+00],\n",
              "       [ 1.00000000e+00, -1.42857143e+00,  2.04081633e+00],\n",
              "       [ 1.00000000e+00, -1.02040816e+00,  1.04123282e+00],\n",
              "       [ 1.00000000e+00, -6.12244898e-01,  3.74843815e-01],\n",
              "       [ 1.00000000e+00, -2.04081633e-01,  4.16493128e-02],\n",
              "       [ 1.00000000e+00,  2.04081633e-01,  4.16493128e-02],\n",
              "       [ 1.00000000e+00,  6.12244898e-01,  3.74843815e-01],\n",
              "       [ 1.00000000e+00,  1.02040816e+00,  1.04123282e+00],\n",
              "       [ 1.00000000e+00,  1.42857143e+00,  2.04081633e+00],\n",
              "       [ 1.00000000e+00,  1.83673469e+00,  3.37359434e+00],\n",
              "       [ 1.00000000e+00,  2.24489796e+00,  5.03956685e+00],\n",
              "       [ 1.00000000e+00,  2.65306122e+00,  7.03873386e+00],\n",
              "       [ 1.00000000e+00,  3.06122449e+00,  9.37109538e+00],\n",
              "       [ 1.00000000e+00,  3.46938776e+00,  1.20366514e+01],\n",
              "       [ 1.00000000e+00,  3.87755102e+00,  1.50354019e+01],\n",
              "       [ 1.00000000e+00,  4.28571429e+00,  1.83673469e+01],\n",
              "       [ 1.00000000e+00,  4.69387755e+00,  2.20324865e+01],\n",
              "       [ 1.00000000e+00,  5.10204082e+00,  2.60308205e+01],\n",
              "       [ 1.00000000e+00,  5.51020408e+00,  3.03623490e+01],\n",
              "       [ 1.00000000e+00,  5.91836735e+00,  3.50270721e+01],\n",
              "       [ 1.00000000e+00,  6.32653061e+00,  4.00249896e+01],\n",
              "       [ 1.00000000e+00,  6.73469388e+00,  4.53561016e+01],\n",
              "       [ 1.00000000e+00,  7.14285714e+00,  5.10204082e+01],\n",
              "       [ 1.00000000e+00,  7.55102041e+00,  5.70179092e+01],\n",
              "       [ 1.00000000e+00,  7.95918367e+00,  6.33486047e+01],\n",
              "       [ 1.00000000e+00,  8.36734694e+00,  7.00124948e+01],\n",
              "       [ 1.00000000e+00,  8.77551020e+00,  7.70095793e+01],\n",
              "       [ 1.00000000e+00,  9.18367347e+00,  8.43398584e+01],\n",
              "       [ 1.00000000e+00,  9.59183673e+00,  9.20033319e+01],\n",
              "       [ 1.00000000e+00,  1.00000000e+01,  1.00000000e+02]])"
            ]
          },
          "metadata": {},
          "execution_count": 18
        }
      ]
    },
    {
      "cell_type": "code",
      "source": [
        "from sklearn.model_selection import train_test_split\n",
        "X_train, X_test, y_train, y_test = train_test_split(X_polynomial, y, train_size=0.7)"
      ],
      "metadata": {
        "id": "LCqLoh5GbyDA"
      },
      "execution_count": null,
      "outputs": []
    },
    {
      "cell_type": "code",
      "metadata": {
        "id": "JLLVi3e0US_A",
        "colab": {
          "base_uri": "https://localhost:8080/"
        },
        "outputId": "d4c559c8-00f5-4a9a-e9fc-36e891f2f529"
      },
      "source": [
        "lr.fit(X_train, y_train) #обучаем\n",
        "lr.score(X_test,y_test) #проверяем точность\n",
        "\n"
      ],
      "execution_count": null,
      "outputs": [
        {
          "output_type": "execute_result",
          "data": {
            "text/plain": [
              "0.9368926772176968"
            ]
          },
          "metadata": {},
          "execution_count": 22
        }
      ]
    },
    {
      "cell_type": "code",
      "source": [
        "y_pred=lr.predict(X_polynomial)"
      ],
      "metadata": {
        "id": "AnvLalUrbj4Y"
      },
      "execution_count": null,
      "outputs": []
    },
    {
      "cell_type": "code",
      "source": [
        "plt.scatter(X, y);\n",
        "plt.title('полиномиальная регрессия степени 2');\n",
        "plt.plot(X, y_pred, color='red');\n",
        "plt.xlabel(\"X\")\n",
        "plt.ylabel(\"Y\")\n",
        "plt.show()"
      ],
      "metadata": {
        "id": "-SvoPaAobqZz",
        "colab": {
          "base_uri": "https://localhost:8080/",
          "height": 295
        },
        "outputId": "18a5ca9c-21b7-4696-9403-c6eed9758c55"
      },
      "execution_count": null,
      "outputs": [
        {
          "output_type": "display_data",
          "data": {
            "text/plain": [
              "<Figure size 432x288 with 1 Axes>"
            ],
            "image/png": "[encoded data removed]"
          },
          "metadata": {
            "needs_background": "light"
          }
        }
      ]
    },
    {
      "cell_type": "code",
      "metadata": {
        "colab": {
          "base_uri": "https://localhost:8080/"
        },
        "id": "z89kanE4Ui3A",
        "outputId": "ad160803-b879-4235-8f08-588acc87a44d"
      },
      "source": [
        " lr.coef_"
      ],
      "execution_count": null,
      "outputs": [
        {
          "output_type": "execute_result",
          "data": {
            "text/plain": [
              "array([[ 0.        , -0.28591284,  0.91847656]])"
            ]
          },
          "metadata": {},
          "execution_count": 25
        }
      ]
    },
    {
      "cell_type": "code",
      "metadata": {
        "colab": {
          "base_uri": "https://localhost:8080/"
        },
        "id": "jmAcflJ1VsEo",
        "outputId": "6bb52359-a1dd-4124-9ed8-3de386e43d7c"
      },
      "source": [
        "print('R² Value: \\n', lr.score(X_polynomial, y))"
      ],
      "execution_count": null,
      "outputs": [
        {
          "output_type": "stream",
          "name": "stdout",
          "text": [
            "R² Value: \n",
            " 0.945751903840927\n"
          ]
        }
      ]
    },
    {
      "cell_type": "markdown",
      "metadata": {
        "id": "uF4VeZ87WQZN"
      },
      "source": [
        "добавим полиномиальные признаки 15-й степени\n"
      ]
    },
    {
      "cell_type": "code",
      "metadata": {
        "id": "DdhhEZjCUVI3"
      },
      "source": [
        "pf1 = PolynomialFeatures(degree=15)\n",
        "X_polynomial1 = pf1.fit_transform(X)\n",
        "X_train, X_test, y_train, y_test = train_test_split(X_polynomial1, y, train_size=0.7)"
      ],
      "execution_count": null,
      "outputs": []
    },
    {
      "cell_type": "code",
      "metadata": {
        "colab": {
          "base_uri": "https://localhost:8080/"
        },
        "id": "BaARHYz0NRwR",
        "outputId": "3fdbc201-e736-4e29-d6ba-5b9ff1e33a48"
      },
      "source": [
        "lr.fit(X_train, y_train)\n",
        "lr.score(X_test,y_test)\n"
      ],
      "execution_count": null,
      "outputs": [
        {
          "output_type": "execute_result",
          "data": {
            "text/plain": [
              "-0.07767345359166056"
            ]
          },
          "metadata": {},
          "execution_count": 47
        }
      ]
    },
    {
      "cell_type": "code",
      "source": [
        "lr.score(X_train, y_train)"
      ],
      "metadata": {
        "colab": {
          "base_uri": "https://localhost:8080/"
        },
        "id": "HO7uQSvbdtX6",
        "outputId": "b6f90fa5-b058-4613-ff07-2d5c57027aca"
      },
      "execution_count": null,
      "outputs": [
        {
          "output_type": "execute_result",
          "data": {
            "text/plain": [
              "0.978614599104848"
            ]
          },
          "metadata": {},
          "execution_count": 48
        }
      ]
    },
    {
      "cell_type": "code",
      "source": [
        "lr.coef_"
      ],
      "metadata": {
        "colab": {
          "base_uri": "https://localhost:8080/"
        },
        "id": "KKGblcHbd9Bd",
        "outputId": "d26c5c3c-0b1f-43b4-dd3a-fba98bf88442"
      },
      "execution_count": null,
      "outputs": [
        {
          "output_type": "execute_result",
          "data": {
            "text/plain": [
              "array([[ 0.00000000e+00, -2.73055146e+00, -1.14458588e+00,\n",
              "         2.27723740e-01,  1.96070070e-01,  2.92331644e-02,\n",
              "        -7.37866100e-03, -3.39814291e-03,  1.57212541e-04,\n",
              "         1.25900502e-04, -2.13869411e-06, -2.17544363e-06,\n",
              "         1.70683516e-08,  1.79390700e-08, -5.83786353e-11,\n",
              "        -5.69468916e-11]])"
            ]
          },
          "metadata": {},
          "execution_count": 49
        }
      ]
    },
    {
      "cell_type": "code",
      "source": [
        "y_pred1=lr.predict(X_polynomial1)\n",
        "plt.scatter(X, y);\n",
        "plt.title('полиномиальная регрессия степени 15');\n",
        "plt.plot(X, y_pred1, color='red');\n",
        "plt.xlabel(\"X\")\n",
        "plt.ylabel(\"Y\")\n",
        "plt.show()"
      ],
      "metadata": {
        "id": "-mgo2u3mcV-J",
        "colab": {
          "base_uri": "https://localhost:8080/",
          "height": 295
        },
        "outputId": "146b024b-5141-4ffa-ca6c-1b3c278f7730"
      },
      "execution_count": null,
      "outputs": [
        {
          "output_type": "display_data",
          "data": {
            "text/plain": [
              "<Figure size 432x288 with 1 Axes>"
            ],
            "image/png": "[encoded data removed]"
          },
          "metadata": {
            "needs_background": "light"
          }
        }
      ]
    },
    {
      "cell_type": "markdown",
      "metadata": {
        "id": "iJLii6GRWdJP"
      },
      "source": [
        "добавим регуляризацию"
      ]
    },
    {
      "cell_type": "code",
      "metadata": {
        "colab": {
          "base_uri": "https://localhost:8080/"
        },
        "id": "HOnbxEjaNRwS",
        "outputId": "f2267ecc-69d3-47c4-b49e-88dda0880ec5"
      },
      "source": [
        "ls = Lasso(fit_intercept=True, alpha=0.1, random_state=0, normalize=True)\n",
        "ls.fit(X_train, y_train)\n",
        "ls.score(X_test,y_test)"
      ],
      "execution_count": null,
      "outputs": [
        {
          "output_type": "stream",
          "name": "stderr",
          "text": [
            "/usr/local/lib/python3.7/dist-packages/sklearn/linear_model/_base.py:145: FutureWarning: 'normalize' was deprecated in version 1.0 and will be removed in 1.2.\n",
            "If you wish to scale the data, use Pipeline with a StandardScaler in a preprocessing stage. To reproduce the previous behavior:\n",
            "\n",
            "from sklearn.pipeline import make_pipeline\n",
            "\n",
            "model = make_pipeline(StandardScaler(with_mean=False), Lasso())\n",
            "\n",
            "If you wish to pass a sample_weight parameter, you need to pass it as a fit parameter to each step of the pipeline as follows:\n",
            "\n",
            "kwargs = {s[0] + '__sample_weight': sample_weight for s in model.steps}\n",
            "model.fit(X, y, **kwargs)\n",
            "\n",
            "Set parameter alpha to: original_alpha * np.sqrt(n_samples). \n",
            "  FutureWarning,\n"
          ]
        },
        {
          "output_type": "execute_result",
          "data": {
            "text/plain": [
              "0.9246081700323339"
            ]
          },
          "metadata": {},
          "execution_count": 51
        }
      ]
    },
    {
      "cell_type": "code",
      "metadata": {
        "collapsed": true,
        "colab": {
          "base_uri": "https://localhost:8080/",
          "height": 295
        },
        "id": "1qq6_n2oNRwT",
        "outputId": "beda8bd3-650e-41de-a185-ab3422195f32"
      },
      "source": [
        "y_pred2=ls.predict(X_polynomial1)\n",
        "plt.scatter(X, y);\n",
        "plt.title('полиномиальная регрессия с регуляризацией');\n",
        "plt.plot(X, y_pred2, color='red');\n",
        "plt.xlabel(\"X\")\n",
        "plt.ylabel(\"Y\")\n",
        "plt.show()"
      ],
      "execution_count": null,
      "outputs": [
        {
          "output_type": "display_data",
          "data": {
            "text/plain": [
              "<Figure size 432x288 with 1 Axes>"
            ],
            "image/png": "[encoded data removed]"
          },
          "metadata": {
            "needs_background": "light"
          }
        }
      ]
    },
    {
      "cell_type": "code",
      "metadata": {
        "collapsed": true,
        "id": "gwiacvqeNRwT"
      },
      "source": [
        "rg.coef_"
      ],
      "execution_count": null,
      "outputs": []
    },
    {
      "cell_type": "markdown",
      "metadata": {
        "id": "pjpPW7tHZxBL"
      },
      "source": [
        "нарисуем диаграмму рассеяния (соотношение реальных и предсказанных значений)"
      ]
    },
    {
      "cell_type": "code",
      "metadata": {
        "collapsed": true,
        "id": "idIxMI0ZNRwT"
      },
      "source": [
        "plt.scatter(y, y_pred);\n",
        "plt.plot(y, y, color='red');  #график x=y для сравнения\n",
        "plt.title('диаграмма рассеяния для последней модели');\n",
        "plt.xlabel(\"y\")\n",
        "plt.ylabel(\"y_pred\")\n",
        "plt.show()"
      ],
      "execution_count": null,
      "outputs": []
    }
  ]
}